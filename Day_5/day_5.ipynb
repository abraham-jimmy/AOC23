{
 "cells": [
  {
   "cell_type": "markdown",
   "metadata": {},
   "source": []
  },
  {
   "cell_type": "code",
   "execution_count": 1,
   "metadata": {},
   "outputs": [],
   "source": [
    "file = open(\"test.txt\", \"r\")\n",
    "new_file = []\n",
    "\n",
    "map_names = [\"seed-to-soil map:\", ]\n",
    "result = 0\n",
    "\n",
    "# Clean up and create a new file\n",
    "for line in file:\n",
    "    new_row = []\n",
    "    winning_num_list = []\n",
    "    new_numbers_you_have = []\n",
    "    remove_card = line.split(\":\")\n",
    "    scratchcard = remove_card[1].split(\"|\")\n",
    "    winning_numbers = scratchcard[0].split(\" \")\n",
    "    for i, num in enumerate(winning_numbers):\n",
    "        if num != '':\n",
    "            winning_num_list.append(num)\n",
    "    numbers_you_have = scratchcard[1].split(\" \")\n",
    "    numbers_you_have[len(numbers_you_have) - 1] = numbers_you_have[len(numbers_you_have) - 1].strip()\n",
    "    for num in numbers_you_have:\n",
    "        if num != '':\n",
    "            new_numbers_you_have.append(num)\n",
    "    new_row.append(winning_num_list)\n",
    "    new_row.append(new_numbers_you_have)\n",
    "    new_file.append(new_row)\n",
    "\n",
    "assert result == 35, \"ans. should be 35, was {result}\""
   ]
  },
  {
   "cell_type": "code",
   "execution_count": null,
   "metadata": {},
   "outputs": [],
   "source": []
  }
 ],
 "metadata": {
  "kernelspec": {
   "display_name": "Python 3",
   "language": "python",
   "name": "python3"
  },
  "language_info": {
   "codemirror_mode": {
    "name": "ipython",
    "version": 3
   },
   "file_extension": ".py",
   "mimetype": "text/x-python",
   "name": "python",
   "nbconvert_exporter": "python",
   "pygments_lexer": "ipython3",
   "version": "3.10.12"
  }
 },
 "nbformat": 4,
 "nbformat_minor": 2
}
