{
 "cells": [
  {
   "cell_type": "markdown",
   "metadata": {},
   "source": []
  },
  {
   "cell_type": "code",
   "execution_count": 60,
   "metadata": {},
   "outputs": [
    {
     "name": "stdout",
     "output_type": "stream",
     "text": [
      "20667\n"
     ]
    }
   ],
   "source": [
    "file = open(\"input.txt\", \"r\")\n",
    "result = 0\n",
    "\n",
    "for line in file:\n",
    "    winning_num_list = []\n",
    "    res = 0\n",
    "    remove_card = line.split(\":\")\n",
    "    scratchcard = remove_card[1].split(\"|\")\n",
    "    winning_numbers = scratchcard[0].split(\" \")\n",
    "    for i, num in enumerate(winning_numbers):\n",
    "        if num != '':\n",
    "            winning_num_list.append(num)\n",
    "\n",
    "    numbers_you_have = scratchcard[1].split(\" \")\n",
    "    numbers_you_have[len(numbers_you_have) - 1] = numbers_you_have[len(numbers_you_have) - 1].strip()\n",
    "    for ind, numb in enumerate(numbers_you_have):\n",
    "        if numb in winning_num_list:\n",
    "            if res == 0:\n",
    "                res = 1\n",
    "            else:\n",
    "                res *= 2\n",
    "    result += res\n",
    "\n",
    "print(result)\n",
    "# assert result == 13, f\"not {13}, it was {result}\""
   ]
  },
  {
   "cell_type": "markdown",
   "metadata": {},
   "source": [
    "## p2\n"
   ]
  },
  {
   "cell_type": "code",
   "execution_count": 125,
   "metadata": {},
   "outputs": [
    {
     "name": "stdout",
     "output_type": "stream",
     "text": [
      "orig:  [1, 1, 1, 1, 1, 1, 1, 1, 1, 1, 1, 1, 1, 1, 1, 1, 1, 1, 1, 1, 1, 1, 1, 1, 1, 1, 1, 1, 1, 1, 1, 1, 1, 1, 1, 1, 1, 1, 1, 1, 1, 1, 1, 1, 1, 1, 1, 1, 1, 1, 1, 1, 1, 1, 1, 1, 1, 1, 1, 1, 1, 1, 1, 1, 1, 1, 1, 1, 1, 1, 1, 1, 1, 1, 1, 1, 1, 1, 1, 1, 1, 1, 1, 1, 1, 1, 1, 1, 1, 1, 1, 1, 1, 1, 1, 1, 1, 1, 1, 1, 1, 1, 1, 1, 1, 1, 1, 1, 1, 1, 1, 1, 1, 1, 1, 1, 1, 1, 1, 1, 1, 1, 1, 1, 1, 1, 1, 1, 1, 1, 1, 1, 1, 1, 1, 1, 1, 1, 1, 1, 1, 1, 1, 1, 1, 1, 1, 1, 1, 1, 1, 1, 1, 1, 1, 1, 1, 1, 1, 1, 1, 1, 1, 1, 1, 1, 1, 1, 1, 1, 1, 1, 1, 1, 1, 1, 1, 1, 1, 1, 1, 1, 1, 1, 1, 1, 1, 1, 1, 1, 1, 1, 1, 1, 1, 1, 1, 1, 1, 1, 1, 1, 1, 1, 1, 1, 1, 1, 1, 1, 1]\n",
      "copy:  [1, 1, 1, 1, 1, 1, 1, 1, 1, 1, 1, 1, 1, 1, 1, 1, 1, 1, 1, 1, 1, 1, 1, 1, 1, 1, 1, 1, 1, 1, 1, 1, 1, 1, 1, 1, 1, 1, 1, 1, 1, 1, 1, 1, 1, 1, 1, 1, 1, 1, 1, 1, 1, 1, 1, 1, 1, 1, 1, 1, 1, 1, 1, 1, 1, 1, 1, 1, 1, 1, 1, 1, 1, 1, 1, 1, 1, 1, 1, 1, 1, 1, 1, 1, 1, 1, 1, 1, 1, 1, 1, 1, 1, 1, 1, 1, 1, 1, 1, 1, 1, 1, 1, 1, 1, 1, 1, 1, 1, 1, 1, 1, 1, 1, 1, 1, 1, 1, 1, 1, 1, 1, 1, 1, 1, 1, 1, 1, 1, 1, 1, 1, 1, 1, 1, 1, 1, 1, 1, 1, 1, 1, 1, 1, 1, 1, 1, 1, 1, 1, 1, 1, 1, 1, 1, 1, 1, 1, 1, 1, 1, 1, 1, 1, 1, 1, 1, 1, 1, 1, 1, 1, 1, 1, 1, 1, 1, 1, 1, 1, 1, 1, 1, 1, 1, 1, 1, 1, 1, 1, 1, 1, 1, 1, 1, 1, 1, 1, 1, 1, 1, 1, 1, 1, 1, 1, 1, 1, 1, 1, 1]\n",
      "num matches:  5833065\n"
     ]
    }
   ],
   "source": [
    "file = open(\"input.txt\", \"r\")\n",
    "new_file = []\n",
    "\n",
    "result = 0\n",
    "\n",
    "# Clean up and create a new file\n",
    "for line in file:\n",
    "    new_row = []\n",
    "    winning_num_list = []\n",
    "    new_numbers_you_have = []\n",
    "    remove_card = line.split(\":\")\n",
    "    scratchcard = remove_card[1].split(\"|\")\n",
    "    winning_numbers = scratchcard[0].split(\" \")\n",
    "    for i, num in enumerate(winning_numbers):\n",
    "        if num != '':\n",
    "            winning_num_list.append(num)\n",
    "    numbers_you_have = scratchcard[1].split(\" \")\n",
    "    numbers_you_have[len(numbers_you_have) - 1] = numbers_you_have[len(numbers_you_have) - 1].strip()\n",
    "    for num in numbers_you_have:\n",
    "        if num != '':\n",
    "            new_numbers_you_have.append(num)\n",
    "    new_row.append(winning_num_list)\n",
    "    new_row.append(new_numbers_you_have)\n",
    "    new_file.append(new_row)\n",
    "\n",
    "# Get the winning amount\n",
    "new_scratchcards = [0] * len(new_file[:])\n",
    "for i, scratchcard in enumerate(new_file):\n",
    "    for win_num in scratchcard[1]:\n",
    "        if win_num in scratchcard[0]:\n",
    "            new_scratchcards[i] += 1\n",
    "\n",
    "# Calc the new amount of cards\n",
    "amount_cards = [1] * len(new_file[:])\n",
    "for i, num in enumerate(new_scratchcards):\n",
    "    for j in range(num):\n",
    "        amount_cards[i + j + 1] += 1 * amount_cards[i]\n",
    "\n",
    "result = sum(amount_cards)\n",
    "print(\"Result: \", result)\n",
    "# assert result == 30, f\"not {30}, it was {result}\""
   ]
  },
  {
   "cell_type": "code",
   "execution_count": null,
   "metadata": {},
   "outputs": [],
   "source": []
  }
 ],
 "metadata": {
  "kernelspec": {
   "display_name": "Python 3",
   "language": "python",
   "name": "python3"
  },
  "language_info": {
   "codemirror_mode": {
    "name": "ipython",
    "version": 3
   },
   "file_extension": ".py",
   "mimetype": "text/x-python",
   "name": "python",
   "nbconvert_exporter": "python",
   "pygments_lexer": "ipython3",
   "version": "3.10.12"
  }
 },
 "nbformat": 4,
 "nbformat_minor": 2
}
